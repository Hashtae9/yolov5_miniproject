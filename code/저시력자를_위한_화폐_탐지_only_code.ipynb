{
  "cells": [
    {
      "cell_type": "markdown",
      "metadata": {
        "id": "XT7PRhnMf-kI"
      },
      "source": [
        "# **저시력자를 위한 원화 화폐 분류**\n",
        "---\n",
        "- UltraLytics YOLO v5 모델 사용\n",
        "---"
      ]
    },
    {
      "cell_type": "markdown",
      "metadata": {
        "id": "47D2vGDYdCOz"
      },
      "source": [
        "## 0.미션\n",
        "---\n",
        "- **과제 수행 목표**\n",
        "    - Object Detection\n",
        "    - Object Detection 문제로 접근하기 위해 **데이터셋 전처리** 필요\n",
        "    - 데이터셋 : money_dataset.zip\n",
        "        1. 데이터셋은 압축 파일로 제공\n",
        "        2. 압축 파일 안에는 화폐마다 폴더가 개별적으로 존재\n",
        "        3. 폴더 안에는 화폐 이미지와 화폐 정보가 담긴 json 파일이 있음\n",
        "        - ex 1) 화폐의 모든 종류를 한 이미지에 나오게 촬영\n",
        "        - ex 2) 여러 화폐를 겹치게 하여 촬영\n",
        "---\n",
        "- **Key Point**\n",
        "    1. 모델에 맞는 폴더 구조 확인\n",
        "    2. 이미지 축소 비율에 맞춰 좌표값 변경\n",
        "        - 좌표를 이미지 리사이즈한 비율로 변경\n",
        "    3. 모델에 맞는 정보 추출/형식 변경\n",
        "        - json 파일에서 정보 추출 및 모델 형식에 맞게 변경\n",
        "    4. 화폐당 하나의 클래스로 변경\n",
        "        - 총 8개 클래스\n",
        "    5. 모델 선택 필요\n",
        "---"
      ]
    },
    {
      "cell_type": "markdown",
      "metadata": {
        "id": "aZon1K-Ag9be"
      },
      "source": [
        "## 1.환경설정"
      ]
    },
    {
      "cell_type": "markdown",
      "metadata": {
        "id": "CMgnHN9ZBF05"
      },
      "source": [
        "### (1) 구글 드라이브 연동, 데이터 다운로드\n"
      ]
    },
    {
      "cell_type": "code",
      "execution_count": null,
      "metadata": {
        "id": "xCplyiojBFwh"
      },
      "outputs": [],
      "source": [
        "from google.colab import drive\n",
        "drive.mount('/content/drive/')"
      ]
    },
    {
      "cell_type": "code",
      "execution_count": null,
      "metadata": {
        "id": "5sUNGwmDxAda"
      },
      "outputs": [],
      "source": [
        "!pip install gdown"
      ]
    },
    {
      "cell_type": "markdown",
      "metadata": {
        "id": "J8vjv0acBAV4"
      },
      "source": [
        "### (2) 데이터셋 불러오기\n",
        "---\n",
        "- **세부요구사항**\n",
        "    - 데이터셋 파일의 압축을 해제\n",
        "---\n",
        "- [zipfile document](https://docs.python.org/3/library/zipfile.html#zipfile-objects)\n",
        "---"
      ]
    },
    {
      "cell_type": "code",
      "execution_count": 4,
      "metadata": {
        "id": "bkSa5ejf8LMe"
      },
      "outputs": [],
      "source": [
        "import zipfile, gdown,os\n",
        "url =\"https://drive.google.com/file/d/1k1tXDK35s6BsMTPGWSl5GVGNoPfC898X/view?usp=drive_link\"\n",
        "file_name = \"money_dataset.zip\"\n",
        "output = \"/content/drive/MyDrive/\" + file_name # 변경 가능\n",
        "if not os.path.exists(output):\n",
        "    gdown.download(url=url, output=output, quiet=False, fuzzy=True)"
      ]
    },
    {
      "cell_type": "code",
      "execution_count": 5,
      "metadata": {
        "id": "N4cdpkRv86QQ"
      },
      "outputs": [],
      "source": [
        "# 데이터셋 압축 파일 경로 : 유저별로 상이할 수 있음\n",
        "money_data = zipfile.ZipFile(output)"
      ]
    },
    {
      "cell_type": "code",
      "execution_count": 6,
      "metadata": {
        "id": "TDAyDRLT9hZS"
      },
      "outputs": [],
      "source": [
        "# 데이터셋 압축 해제\n",
        "money_data.extractall('/content/Dataset/')"
      ]
    },
    {
      "cell_type": "markdown",
      "metadata": {
        "id": "QyEd-WNIhoSc"
      },
      "source": [
        "## 2.데이터 전처리"
      ]
    },
    {
      "cell_type": "markdown",
      "metadata": {
        "id": "P81d6utx-3LY"
      },
      "source": [
        "### (1) 폴더 구조 생성 및 파일 이동\n",
        "---\n",
        "- **세부요구사항**\n",
        "    -  모델에서 요구하는 폴더 구조\n",
        "        - Image와 Label을 구분\n",
        "---\n",
        "- [glob document](https://docs.python.org/3/library/glob.html) | [shutil document](https://docs.python.org/3/library/shutil.html)\n",
        "---"
      ]
    },
    {
      "cell_type": "code",
      "execution_count": 7,
      "metadata": {
        "id": "YBqCJU5z_UI8"
      },
      "outputs": [],
      "source": [
        "# 1.폴더 구조 만들기\n",
        "!mkdir /content/Dataset/images;\n",
        "!mkdir /content/Dataset/images/train; mkdir /content/Dataset/images/val\n",
        "\n",
        "!mkdir /content/Dataset/labels;\n",
        "!mkdir /content/Dataset/labels/train; mkdir /content/Dataset/labels/val"
      ]
    },
    {
      "cell_type": "code",
      "execution_count": 8,
      "metadata": {
        "id": "UuchlNA_DftJ"
      },
      "outputs": [],
      "source": [
        "import glob, shutil"
      ]
    },
    {
      "cell_type": "code",
      "execution_count": 9,
      "metadata": {
        "id": "Q3lnYcLS_UOy"
      },
      "outputs": [],
      "source": [
        "# 2. Dataset metadata 입력\n",
        "won_list = ['10', '50', '100', '500', '1000', '5000', '10000', '50000']\n",
        "data_path = '/content/Dataset/'"
      ]
    },
    {
      "cell_type": "markdown",
      "metadata": {
        "id": "ihJgeqXJG1Ml"
      },
      "source": [
        "---\n",
        "- Training과 Validation은 8:2로 분리\n",
        "- 이미지 데이터는 /images에, JSON 데이터는 /labels에 넣기\n",
        "    - /dataset/images/train, /dataset/labels/train\n",
        "    - [glob document](https://docs.python.org/3/library/glob.html) | [shutil document](https://docs.python.org/3/library/shutil.html)\n",
        "---"
      ]
    },
    {
      "cell_type": "code",
      "execution_count": null,
      "metadata": {
        "id": "1qfGCSqy_kL0"
      },
      "outputs": [],
      "source": [
        "# 3. 데이터를 Training set | Validation set으로 분할하세요.\n",
        "# 이미지 및 JSON 파일 가져오기\n",
        "image_files = glob.glob(os.path.join(data_path, '*/*.jpg'))\n",
        "json_files = glob.glob(os.path.join(data_path, '*/*.json'))\n",
        "print(len(image_files), len(json_files))\n",
        "image_files.sort()\n",
        "json_files.sort()"
      ]
    },
    {
      "cell_type": "code",
      "execution_count": null,
      "metadata": {
        "id": "Q0yoGsstfNFR"
      },
      "outputs": [],
      "source": [
        "print(image_files[:5])\n",
        "print(json_files[:5])"
      ]
    },
    {
      "cell_type": "code",
      "execution_count": null,
      "metadata": {
        "id": "vmCwhuScb0MX"
      },
      "outputs": [],
      "source": [
        "from sklearn.model_selection import train_test_split\n",
        "\n",
        "train_img, val_img, train_json, val_json = train_test_split(image_files, json_files, test_size=0.2, shuffle=True, random_state=2023)\n",
        "print(train_img[:5])\n",
        "print(train_json[:5])"
      ]
    },
    {
      "cell_type": "code",
      "execution_count": 13,
      "metadata": {
        "id": "itQVnl3Xbz61"
      },
      "outputs": [],
      "source": [
        "def move_file(target, move_list):\n",
        "    for path in move_list:\n",
        "        file_name = os.path.basename(path)\n",
        "        target_path = os.path.join(target, file_name)\n",
        "        shutil.copy(path, target_path)\n",
        "\n",
        "move_file('/content/Dataset/images/train', train_img)\n",
        "move_file('/content/Dataset/images/val', val_img)\n",
        "move_file('/content/Dataset/labels/train', train_json)\n",
        "move_file('/content/Dataset/labels/val', val_json)"
      ]
    },
    {
      "cell_type": "markdown",
      "metadata": {
        "id": "II_hsJ6bKYGn"
      },
      "source": [
        "### (2) json에서 정보 추출\n",
        "---\n",
        "- **세부요구사항**\n",
        "    - json 파일에서 필요한 정보를 추출\n",
        "        - 위치 정보 : x1, x2, y1, y2\n",
        "        - 박스 정보 : shape_type\n",
        "        - 클래스 정보 : labels\n",
        "    - 화폐당 하나의 클래스로 변경\n",
        "        - json 파일에는 화폐 클래스가 앞뒷면으로 구분\n",
        "        - 화폐의 앞뒷면 구분을 없애기\n",
        "            - 예시 : 'ten_front', 'ten_back' -> 'ten'\n",
        "    - 화폐의 위치 정보를 YOLO 모델 형식에 맞게 변경\n",
        "        - 사용되는 이미지는 원본에서 1/5로 축소\n",
        "        - json 파일의 정보는 원본 기준 데이터이므로 위치 정보 추출을 할 때 x값과 y값을 1/5로 줄여야 하지만 yolov5는 이미지 위치 정보가 0에서 1로 스케일링 되어야 함\n",
        "        - 그냥 너비와 높이로 나눠서 크기 자체를 스케일링해서 제출\n",
        "    - 변경된 정보를 YOLO label 형식에 맞게 txt파일로 저장\n",
        "        - YOLO Labeling Format [label, x-center, y-center, width-norm, height-norm]\n",
        "---"
      ]
    },
    {
      "cell_type": "code",
      "execution_count": 14,
      "metadata": {
        "id": "MgUoCewjM-Jf"
      },
      "outputs": [],
      "source": [
        "import os, json\n",
        "import numpy as np\n",
        "import math"
      ]
    },
    {
      "cell_type": "code",
      "execution_count": 15,
      "metadata": {
        "id": "gBD1Zv9BKaxi"
      },
      "outputs": [],
      "source": [
        "json_path = '/content/Dataset/labels/'\n",
        "temp_list = ['train', 'val']"
      ]
    },
    {
      "cell_type": "code",
      "execution_count": null,
      "metadata": {
        "id": "Mzh2Y8doMEK1"
      },
      "outputs": [],
      "source": [
        "train_j = glob.glob(os.path.join(json_path, 'train/*.json'))\n",
        "val_j = glob.glob(os.path.join(json_path, 'val/*.json'))\n",
        "print(len(train_j), len(val_j))\n",
        "\n",
        "class_mapping ={'Ten_front':0,\n",
        "                'Ten_back':0,\n",
        "                'Fifty_front':1,\n",
        "                'Fifty_back':1,\n",
        "                'Hundred_front':2,\n",
        "                'Hundred_back':2,\n",
        "                'Five_Hundred_front':3,\n",
        "                'Five_Hundred_back':3,\n",
        "                'Thousand_front':4,\n",
        "                'Thousand_back':4,\n",
        "                'Five_Thousand_front':5,\n",
        "                'Five_Thousand_back':5,\n",
        "                'Ten_Thousand_front':6,\n",
        "                'Ten_Thousand_back':6,\n",
        "                'Fifty_Thousand_front':7,\n",
        "                'Fifty_Thousand_back':7\n",
        "                }\n",
        "\n",
        "check_list = []\n",
        "\n",
        "# train json 나누기\n",
        "for path in train_j:\n",
        "    with open(path, 'r') as json_file:\n",
        "        d = json.load(json_file)\n",
        "\n",
        "    json_file_name = os.path.basename(path)\n",
        "    txt_file_name = os.path.splitext(json_file_name)[0] + '.txt' # splitext : 파일명과 확장자로 split\n",
        "    output_txt_file = os.path.join(os.path.dirname(path), txt_file_name)\n",
        "\n",
        "    image_width = d['imageWidth']\n",
        "    image_height = d['imageHeight']\n",
        "\n",
        "    with open(output_txt_file, 'w') as output_file:\n",
        "        for shape in d['shapes']:\n",
        "            # 클래스 정보 추출 및 클래스 매핑 적용\n",
        "            original_class = shape['label']\n",
        "            mapped_class = class_mapping.get(original_class, original_class)\n",
        "\n",
        "            # 잘 받았는지 확인용\n",
        "            check_list.append(mapped_class)\n",
        "\n",
        "            # 위치 정보\n",
        "            x1 = shape['points'][0][0]/image_width\n",
        "            y1 = shape['points'][0][1]/image_height\n",
        "            x2 = shape['points'][1][0]/image_width\n",
        "            y2 = shape['points'][1][1]/image_height\n",
        "            #print(x1, y1, x2, y2)\n",
        "            width = abs(x2 - x1)\n",
        "            height = abs(y1 - y2)\n",
        "            x_center = min(x1, x2) + (width / 2)\n",
        "            y_center = min(y1, y2) + (height / 2)\n",
        "            #print(image_width, image_height, width, height, x_center, y_center)\n",
        "            # label, x-center, y-center, width, height\n",
        "\n",
        "            # label, x-center, y-center, width, height\n",
        "            yolo_label = f\"{mapped_class} {x_center} {y_center} {width} {height}\\n\"\n",
        "\n",
        "            output_file.write(yolo_label)\n",
        "\n",
        "print(set(check_list))\n",
        "print(len(check_list))"
      ]
    },
    {
      "cell_type": "code",
      "execution_count": null,
      "metadata": {
        "id": "mnda5u1Lqxsu"
      },
      "outputs": [],
      "source": [
        "check_list = []\n",
        "\n",
        "for path in val_j:\n",
        "    with open(path, 'r') as json_file:\n",
        "        d = json.load(json_file)\n",
        "\n",
        "    json_file_name = os.path.basename(path)\n",
        "    txt_file_name = os.path.splitext(json_file_name)[0] + '.txt' # splitext : 파일명과 확장자로 split\n",
        "    output_txt_file = os.path.join(os.path.dirname(path), txt_file_name)\n",
        "\n",
        "    image_width = d['imageWidth']\n",
        "    image_height = d['imageHeight']\n",
        "    with open(output_txt_file, 'w') as output_file:\n",
        "        for shape in d['shapes']:\n",
        "            # 클래스 정보 추출 및 클래스 매핑 적용\n",
        "            original_class = shape['label']\n",
        "            mapped_class = class_mapping.get(original_class, original_class)\n",
        "\n",
        "            # 잘 받았는지 확인용\n",
        "            check_list.append(mapped_class)\n",
        "\n",
        "            # 위치 정보\n",
        "            x1 = shape['points'][0][0]/image_width\n",
        "            y1 = shape['points'][0][1]/image_height\n",
        "            x2 = shape['points'][1][0]/image_width\n",
        "            y2 = shape['points'][1][1]/image_height\n",
        "            #print(x1, y1, x2, y2)\n",
        "            width = abs(x2 - x1)\n",
        "            height = abs(y1 - y2)\n",
        "            x_center = min(x1, x2) + (width / 2)\n",
        "            y_center = min(y1, y2) + (height / 2)\n",
        "            #print(image_width, image_height, width, height, x_center, y_center)\n",
        "            # label, x-center, y-center, width, height\n",
        "            yolo_label = f\"{mapped_class} {x_center} {y_center} {width} {height}\\n\"\n",
        "\n",
        "            output_file.write(yolo_label)\n",
        "\n",
        "print(set(check_list))\n",
        "print(len(check_list))"
      ]
    },
    {
      "cell_type": "markdown",
      "metadata": {
        "id": "tOQeEhApesWR"
      },
      "source": [
        "### (3) 데이터셋 정보가 담긴 파일 생성\n",
        "---\n",
        "- **세부요구사항**\n",
        "    - 파일 안에 있어야 할 정보\n",
        "        - 학습할 클래스 이름 정보\n",
        "        - 학습할 클래스 수 정보\n",
        "        - Training, Validation 데이터셋 위치 정보\n",
        "---\n",
        "- [yaml document](https://pyyaml.org/wiki/PyYAMLDocumentation)\n",
        "---"
      ]
    },
    {
      "cell_type": "code",
      "execution_count": 18,
      "metadata": {
        "id": "pu1iQfQolBhJ"
      },
      "outputs": [],
      "source": [
        "import yaml"
      ]
    },
    {
      "cell_type": "code",
      "execution_count": 19,
      "metadata": {
        "id": "t1_uOeXcSvv3"
      },
      "outputs": [],
      "source": [
        "won_dict = {0:10, 1:50, 2:100, 3:500, 4:1000, 5:5000, 6:10000, 7:50000}"
      ]
    },
    {
      "cell_type": "code",
      "execution_count": 20,
      "metadata": {
        "id": "qvMQcHirmSnD"
      },
      "outputs": [],
      "source": [
        "class_names = set(class_mapping.values())\n",
        "num_classes = len(class_names)\n",
        "\n",
        "dataset_info_dict = {\n",
        "    \"nc\": num_classes,\n",
        "}\n",
        "\n",
        "dataset_info_dict['names'] = {i: won_dict[i] for i in range(num_classes)}\n",
        "dataset_info_dict['train'] = '/content/Dataset/images/train'\n",
        "dataset_info_dict['val'] = \"/content/Dataset/images/val\"\n",
        "\n",
        "# YAML 파일로 저장\n",
        "output_yaml_file = \"/content/Dataset/dataset_info.yaml\"\n",
        "\n",
        "with open(output_yaml_file, 'w') as yaml_file:\n",
        "    yaml.dump(dataset_info_dict, yaml_file, default_flow_style=False, default_style='')\n"
      ]
    },
    {
      "cell_type": "markdown",
      "metadata": {
        "id": "3btFvySXi2dt"
      },
      "source": [
        "## 3.모델링"
      ]
    },
    {
      "cell_type": "markdown",
      "metadata": {
        "id": "0pQ2gRbTYgLL"
      },
      "source": [
        "### (1) 모델 라이브러리 설치\n",
        "---"
      ]
    },
    {
      "cell_type": "code",
      "execution_count": null,
      "metadata": {
        "id": "Biyr9AHkMyNf"
      },
      "outputs": [],
      "source": [
        "!git clone https://github.com/ultralytics/yolov5  # clone\n",
        "!pip install -r yolov5/requirements.txt  # install"
      ]
    },
    {
      "cell_type": "markdown",
      "metadata": {
        "id": "_mHMAspjR6Xp"
      },
      "source": [
        "### (2) 가중치 파일 다운 및 train.py\n"
      ]
    },
    {
      "cell_type": "code",
      "execution_count": null,
      "metadata": {
        "id": "sSVIqkMLDIOd"
      },
      "outputs": [],
      "source": [
        "# Fine-tuning을 시작합니다.\n",
        "!python yolov5/train.py \\\n",
        "  --img 640 \\\n",
        "  --batch 16 \\\n",
        "  --epochs 100 \\\n",
        "  --data /content/Dataset/dataset_info.yaml \\\n",
        "  --weights yolov5s.pt \\\n",
        "  --project /content/yolov5_training \\\n",
        "  --name yolov5s_results \\\n",
        "  --exist-ok \\\n",
        "  --device 0"
      ]
    },
    {
      "cell_type": "markdown",
      "metadata": {
        "id": "u2YESAa5fc4M"
      },
      "source": [
        "## 4.탐지 : detect.py\n",
        "---\n",
        "- **세부요구사항**\n",
        "    - 학습 과정에서 생성된 가중치 파일을 이용하세요.\n",
        "    - IoU threshold를 0.25 이하로 설정하세요.\n",
        "    - confidence threshold를 0.75 이상으로 설정하세요.\n",
        "---\n",
        "- 여러분이 **직접 촬영한 화폐 사진과 동영상**을 탐지 과정에 이용하여 결과를 확인하세요.\n",
        "    - 조건\n",
        "        1. 화폐의 수를 늘려가며 촬영 해보세요.\n",
        "            - ex) 50원 하나, 50원 둘, 50원 셋, ...\n",
        "        2. 화폐의 종류를 늘려가며 촬영 해보세요.\n",
        "            - ex) 50원 하나와 100원 하나, 50원 하나와 100원 하나와 1000원 하나, ...\n",
        "        3. 사진은 최소 30장 이상, 동영상은 최소 하나 이상 촬영하여 사용 해보세요.\n",
        "---"
      ]
    },
    {
      "cell_type": "markdown",
      "source": [
        "현재 모델을 돌린 후 나온 weight를 드라이브에 따로 저장해 둔 상태\n",
        "+ 모델을 다시 돌릴때는 제 드라이브에 있는 가중치로 돌린 상태\n",
        "    + 런타임이 끝나면 가중치가 사라져서 미리 백업을 해놨습니다."
      ],
      "metadata": {
        "id": "RBdkStC7069Q"
      }
    },
    {
      "cell_type": "code",
      "execution_count": null,
      "metadata": {
        "id": "bOIEU9uQZv-D"
      },
      "outputs": [],
      "source": [
        "!python ./yolov5/detect.py --weights /content/drive/MyDrive/KT/miniproject3/best.pt --conf-thres 0.2 --iou-thres 0.25 --source /content/drive/MyDrive/KT/miniproject3/m1.jpeg"
      ]
    },
    {
      "cell_type": "code",
      "source": [
        "!python ./yolov5/detect.py --weights /content/drive/MyDrive/KT/miniproject3/best.pt --conf-thres 0.2 --iou-thres 0.25 --source /content/drive/MyDrive/KT/miniproject3/money_video.mp4"
      ],
      "metadata": {
        "id": "OKds2OlSvsV1"
      },
      "execution_count": null,
      "outputs": []
    },
    {
      "cell_type": "code",
      "source": [
        "!python ./yolov5/detect.py --weights /content/drive/MyDrive/KT/miniproject3/best.pt --conf-thres 0.2 --iou-thres 0.25 --source https://blog.kakaocdn.net/dn/CaV04/btqYZ6be0jb/3Ny1H2EGEShy92s6yqiFN1/img.jpg"
      ],
      "metadata": {
        "id": "LfTkhTrdvr_j"
      },
      "execution_count": null,
      "outputs": []
    },
    {
      "cell_type": "code",
      "source": [
        "!python ./yolov5/detect.py --weights /content/drive/MyDrive/KT/miniproject3/best.pt --conf-thres 0.2 --iou-thres 0.25 --source /content/drive/MyDrive/KT/miniproject3/money_overlap1.jpeg"
      ],
      "metadata": {
        "id": "6FyLTPUD7ODs"
      },
      "execution_count": null,
      "outputs": []
    },
    {
      "cell_type": "code",
      "source": [
        "!python ./yolov5/detect.py --weights /content/drive/MyDrive/KT/miniproject3/best.pt --conf-thres 0.2 --iou-thres 0.25 --source /content/drive/MyDrive/KT/miniproject3/money_overlap2.jpg"
      ],
      "metadata": {
        "id": "WR0b9-6M7Rpb"
      },
      "execution_count": null,
      "outputs": []
    },
    {
      "cell_type": "code",
      "source": [
        "from PIL import Image\n",
        "\n",
        "# 이미지 파일 경로\n",
        "image_path = \"/content/yolov5/runs/detect/exp/m1.jpeg\"\n",
        "\n",
        "# 이미지 열기\n",
        "Image.open(image_path)"
      ],
      "metadata": {
        "id": "y2MuDYpUpVrd"
      },
      "execution_count": null,
      "outputs": []
    },
    {
      "cell_type": "code",
      "source": [
        "from PIL import Image\n",
        "\n",
        "# 이미지 파일 경로\n",
        "image_path = \"/content/yolov5/runs/detect/exp4/img.jpg\"\n",
        "\n",
        "# 이미지 열기\n",
        "Image.open(image_path)\n"
      ],
      "metadata": {
        "id": "fohGRtr07lT8"
      },
      "execution_count": null,
      "outputs": []
    },
    {
      "cell_type": "code",
      "source": [
        "import shutil\n",
        "\n",
        "source_path = \"/content/yolov5_training/yolov5s_results/weights/best.pt\"\n",
        "destination_path = \"/content/drive/MyDrive/KT/miniproject3/best.pt\"\n",
        "\n",
        "shutil.copy(source_path, destination_path)"
      ],
      "metadata": {
        "id": "vp0Pm_EewRJX"
      },
      "execution_count": null,
      "outputs": []
    },
    {
      "cell_type": "markdown",
      "source": [
        "## 5.하이퍼 파라미터 바꿔보기 :  hyp.scratch-low.yaml\n",
        "+ 하이퍼파라미터 default는 'hyp.scratch-low.yaml'\n",
        "+ 해당 파일에서 몇 부분을 수정해서 설정\n",
        "```\n",
        "def parse_opt(known=False):\n",
        "    parser = argparse.ArgumentParser()\n",
        "    parser.add_argument('--weights', type=str, default=ROOT / 'yolov5s.pt', help='initial weights path')\n",
        "    parser.add_argument('--cfg', type=str, default='', help='model.yaml path')\n",
        "    parser.add_argument('--data', type=str, default=ROOT / 'data/coco128.yaml', help='dataset.yaml path')\n",
        "    parser.add_argument('--hyp', type=str, default=ROOT / 'data/hyps/hyp.scratch-low.yaml', help='hyperparameters path')\n",
        "```\n",
        "\n",
        "+ mixup: 0.0  # image mixup (probability)\n",
        "    + 겹친 이미지에 대한 판단이 힘들어 보여서 1.0으로 줘서 해보기\n",
        "+ degrees: 0.0  # image rotation (+/- deg)\n",
        "    + 동영상 촬영으로 이미지 촬영시 0도, 90도, 180도, 270도는 잘 인식하지만 그 사이각이 인식이 잘 안되는 문제점 발생\n",
        "    + 90도의 rotation을 줘서 학습시키기"
      ],
      "metadata": {
        "id": "H81piYJQqCfX"
      }
    },
    {
      "cell_type": "code",
      "source": [
        "!python yolov5/train.py \\\n",
        "  --img 640 \\\n",
        "  --batch 16 \\\n",
        "  --epochs 100 \\\n",
        "  --hyp /content/drive/MyDrive/KT/miniproject3/hyp.scratch-custom.yaml \\\n",
        "  --data /content/Dataset/dataset_info.yaml \\\n",
        "  --weights yolov5s.pt \\\n",
        "  --project /content/yolov5_training_custom \\\n",
        "  --name yolov5s_results \\\n",
        "  --exist-ok \\\n",
        "  --device 0"
      ],
      "metadata": {
        "id": "sOfA8C4cAGFm"
      },
      "execution_count": null,
      "outputs": []
    },
    {
      "cell_type": "code",
      "source": [
        "import shutil\n",
        "\n",
        "source_path = \"/content/yolov5_training/yolov5s_results/weights/best.pt\"\n",
        "destination_path = \"/content/drive/MyDrive/KT/miniproject3/best_rotation3.pt\"\n",
        "\n",
        "shutil.copy(source_path, destination_path)"
      ],
      "metadata": {
        "id": "Cpoi3N95s52-"
      },
      "execution_count": null,
      "outputs": []
    },
    {
      "cell_type": "code",
      "source": [
        "!python ./yolov5/detect.py --weights /content/drive/MyDrive/KT/miniproject3/best_rotation3.pt --conf-thres 0.2 --iou-thres 0.25 --source /content/drive/MyDrive/KT/miniproject3/m1.jpeg"
      ],
      "metadata": {
        "id": "LEcac6pmxx5I"
      },
      "execution_count": null,
      "outputs": []
    },
    {
      "cell_type": "code",
      "source": [
        "from PIL import Image\n",
        "\n",
        "# 이미지 파일 경로\n",
        "image_path = \"/content/yolov5/runs/detect/exp4/m1.jpeg\"\n",
        "\n",
        "# 이미지 열기\n",
        "Image.open(image_path)"
      ],
      "metadata": {
        "id": "k6GerGn7x5w7"
      },
      "execution_count": null,
      "outputs": []
    },
    {
      "cell_type": "code",
      "source": [
        "!python ./yolov5/detect.py --weights /content/drive/MyDrive/KT/miniproject3/best_rotation3.pt --conf-thres 0.2 --iou-thres 0.25 --source /content/drive/MyDrive/KT/miniproject3/money_video.mp4"
      ],
      "metadata": {
        "id": "ItMBWLtfyOAi"
      },
      "execution_count": null,
      "outputs": []
    },
    {
      "cell_type": "code",
      "source": [
        "!python ./yolov5/detect.py --weights /content/drive/MyDrive/KT/miniproject3/best_rotation3.pt --conf-thres 0.2 --iou-thres 0.25 --source https://blog.kakaocdn.net/dn/CaV04/btqYZ6be0jb/3Ny1H2EGEShy92s6yqiFN1/img.jpg"
      ],
      "metadata": {
        "id": "gPQLy7cryhN1"
      },
      "execution_count": null,
      "outputs": []
    },
    {
      "cell_type": "code",
      "source": [
        "from PIL import Image\n",
        "\n",
        "# 이미지 파일 경로\n",
        "image_path = \"/content/yolov5/runs/detect/exp6/img.jpg\"\n",
        "\n",
        "# 이미지 열기\n",
        "Image.open(image_path)\n"
      ],
      "metadata": {
        "id": "-0PTSB6Hyq0m"
      },
      "execution_count": null,
      "outputs": []
    },
    {
      "cell_type": "code",
      "source": [
        "!python ./yolov5/detect.py --weights /content/drive/MyDrive/KT/miniproject3/best_rotation3.pt --conf-thres 0.2 --iou-thres 0.25 --source /content/drive/MyDrive/KT/miniproject3/money_overlap1.jpeg"
      ],
      "metadata": {
        "id": "d6rMu8FvyvOn"
      },
      "execution_count": null,
      "outputs": []
    },
    {
      "cell_type": "code",
      "source": [
        "from PIL import Image\n",
        "\n",
        "# 이미지 파일 경로\n",
        "image_path = \"/content/yolov5/runs/detect/exp7/money_overlap1.jpeg\"\n",
        "\n",
        "# 이미지 열기\n",
        "Image.open(image_path)"
      ],
      "metadata": {
        "id": "rZBrWMNqzbqH"
      },
      "execution_count": null,
      "outputs": []
    },
    {
      "cell_type": "code",
      "source": [
        "!python ./yolov5/detect.py --weights /content/drive/MyDrive/KT/miniproject3/best_rotation3.pt --conf-thres 0.2 --iou-thres 0.25 --source /content/drive/MyDrive/KT/miniproject3/money_overlap2.jpg"
      ],
      "metadata": {
        "id": "kd4Lq7zYzhHX"
      },
      "execution_count": null,
      "outputs": []
    },
    {
      "cell_type": "code",
      "source": [
        "from PIL import Image\n",
        "\n",
        "# 이미지 파일 경로\n",
        "image_path = \"/content/yolov5/runs/detect/exp8/money_overlap2.jpg\"\n",
        "\n",
        "# 이미지 열기\n",
        "Image.open(image_path)"
      ],
      "metadata": {
        "id": "dmoXGMrqzrRd"
      },
      "execution_count": null,
      "outputs": []
    }
  ],
  "metadata": {
    "accelerator": "GPU",
    "colab": {
      "provenance": []
    },
    "kernelspec": {
      "display_name": "Python 3",
      "name": "python3"
    },
    "language_info": {
      "name": "python"
    }
  },
  "nbformat": 4,
  "nbformat_minor": 0
}